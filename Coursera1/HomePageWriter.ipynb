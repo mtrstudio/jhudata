{
 "cells": [
  {
   "cell_type": "code",
   "execution_count": 79,
   "metadata": {
    "collapsed": false
   },
   "outputs": [
    {
     "name": "stdout",
     "output_type": "stream",
     "text": [
      " <a href=\"http://projecteuclid.org/euclid.rmjm/1311340913\"><span class=\"glyphicon glyphicon-file\"></span> </a> <a href=\"http://www.sciencedirect.com/science/article/pii/S0022247X13004290\"><span class=\"glyphicon glyphicon-download\"></span> </a>\n"
     ]
    }
   ],
   "source": [
    "with open('PDEBib.html', 'r') as f:\n",
    "    BibHTML=f.read()\n",
    "from bs4 import BeautifulSoup #for HTML\n",
    "import re #regular expression\n",
    "bibsoup = BeautifulSoup(BibHTML)\n",
    "glyphiconHTML={'journallink':'<span class=\"glyphicon glyphicon-file\"></span>',\n",
    "               'download':'<span class=\"glyphicon glyphicon-download\"></span>'}\n",
    "styleStr=[\"background-color:lavender;\",\"background-color:lavenderblush;\"]\n",
    "wrappeditems = \"\"\n",
    "textlink=\"\"\n",
    "bibitems = bibsoup.find_all(\"div\",\"bibtexitem\")\n",
    "for item in bibitems:\n",
    "    textlink=\"(not available)\"\n",
    "    aa=item.find_all(\"a\") #find all <a href=...>...\n",
    "    if (aa):\n",
    "        textlink=\"\"\n",
    "        for each_a in aa:\n",
    "            #don't put '+' in a separate line, which would cause errors\n",
    "            textlink+=' <a href=\"'+each_a[\"href\"]+'\">'+glyphiconHTML[each_a[\"class\"][0]]+' </a>'\n",
    "            \n",
    "            \n",
    "print textlink\n",
    "        "
   ]
  },
  {
   "cell_type": "code",
   "execution_count": null,
   "metadata": {
    "collapsed": true
   },
   "outputs": [],
   "source": []
  }
 ],
 "metadata": {
  "kernelspec": {
   "display_name": "Python 2",
   "language": "python",
   "name": "python2"
  },
  "language_info": {
   "codemirror_mode": {
    "name": "ipython",
    "version": 2
   },
   "file_extension": ".py",
   "mimetype": "text/x-python",
   "name": "python",
   "nbconvert_exporter": "python",
   "pygments_lexer": "ipython2",
   "version": "2.7.8"
  }
 },
 "nbformat": 4,
 "nbformat_minor": 0
}
